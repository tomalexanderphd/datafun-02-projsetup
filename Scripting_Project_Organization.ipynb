{
 "cells": [
  {
   "cell_type": "code",
   "execution_count": 10,
   "metadata": {},
   "outputs": [
    {
     "ename": "SyntaxError",
     "evalue": "leading zeros in decimal integer literals are not permitted; use an 0o prefix for octal integers (2737271889.py, line 58)",
     "output_type": "error",
     "traceback": [
      "\u001b[0;36m  Cell \u001b[0;32mIn[10], line 58\u001b[0;36m\u001b[0m\n\u001b[0;31m    git clone https://github.com/tomalexanderphd/datafun-02-projsetup.git\u001b[0m\n\u001b[0m                                                         ^\u001b[0m\n\u001b[0;31mSyntaxError\u001b[0m\u001b[0;31m:\u001b[0m leading zeros in decimal integer literals are not permitted; use an 0o prefix for octal integers\n"
     ]
    }
   ],
   "source": [
    "import math\n",
    "import statistics\n",
    "import tomalexander_stellar_analytics_utils\n",
    "import os\n",
    "import time\n",
    "import pathlib\n",
    "\n",
    "def create_folders_for_range(start, end):\n",
    "    current_directory = pathlib.Path.cwd()\n",
    "    for year in range(start, end + 1):\n",
    "        year_folder = current_directory.joinpath(f'{year}')\n",
    "        year_folder.mkdir(exist_ok=True)\n",
    "        print('The following folder has been made:', year_folder)\n",
    "    return None\n",
    "\n",
    "def create_folders_from_list(folder_list):\n",
    "    current_directory = pathlib.Path.cwd()\n",
    "    for name in folder_list:\n",
    "        name_folder = current_directory.joinpath(f'{name}')\n",
    "        name_folder.mkdir(exist_ok=True)\n",
    "        print('The following folder has been made:', name_folder)\n",
    "    return None\n",
    "\n",
    "def create_prefixed_folders(folder_list, prefix):\n",
    "    current_directory = pathlib.Path.cwd()\n",
    "    for name in folder_list:\n",
    "        name_folder = current_directory.joinpath(f'{prefix}{name}')\n",
    "        name_folder.mkdir(exist_ok=True)\n",
    "        print('The following folder has been created:', name_folder)\n",
    "    return None\n",
    "\n",
    "def create_folders_periodically(duration):\n",
    "    num_iterations = 5\n",
    "    i = 1\n",
    "    current_directory = pathlib.Path.cwd()\n",
    "    while i <= num_iterations:\n",
    "        folder_name = f\"folder_{i}\"\n",
    "        folder_path = current_directory.joinpath(f'{folder_name}')\n",
    "\n",
    "        folder_path.mkdir(exist_ok=True)\n",
    "\n",
    "        print('The following folder has been made:', folder_path)\n",
    "\n",
    "        i += 1\n",
    "        time.sleep(duration)\n",
    "    return None\n",
    "\n",
    "\n",
    "create_folders_for_range(2000,2005)\n",
    "folder_list=['daisy','rose','tulip','sunflower','dandelion']\n",
    "create_folders_from_list(folder_list)\n",
    "prefix= '2024_'\n",
    "create_prefixed_folders(folder_list,prefix)\n",
    "duration=5\n",
    "create_folders_periodically(duration)\n"
   ]
  },
  {
   "cell_type": "code",
   "execution_count": 3,
   "metadata": {},
   "outputs": [
    {
     "name": "stdout",
     "output_type": "stream",
     "text": [
      "0\n",
      "1\n",
      "2\n",
      "3\n",
      "4\n",
      "5\n",
      "6\n",
      "7\n",
      "8\n",
      "9\n",
      "10\n"
     ]
    }
   ],
   "source": [
    "for item in range(0, 10+1):\n",
    "    print(item)"
   ]
  },
  {
   "cell_type": "code",
   "execution_count": 8,
   "metadata": {},
   "outputs": [],
   "source": [
    "import math\n",
    "import statistics\n",
    "import tomalexander_stellar_analytics_utils\n",
    "import os\n",
    "import time\n",
    "import pathlib\n",
    "\n",
    "def create_folders_for_range(start, end):\n",
    "    current_directory = pathlib.Path.cwd()\n",
    "    for year in range(start, end + 1):\n",
    "        year_folder = current_directory.joinpath(f'{year}')\n",
    "        year_folder.mkdir(exist_ok=True)\n",
    "        print('The following folder has been made:', year_folder)\n",
    "    return None\n",
    "\n",
    "def create_folders_from_list(folder_list):\n",
    "    current_directory = pathlib.Path.cwd()\n",
    "    for name in folder_list:\n",
    "        name_folder = current_directory.joinpath(f'{name}')\n",
    "        name_folder.mkdir(exist_ok=True)\n",
    "        print('The following folder has been made:', name_folder)\n",
    "    return None\n",
    "\n",
    "def create_prefixed_folders(folder_list, prefix):\n",
    "    current_directory = pathlib.Path.cwd()\n",
    "    for name in folder_list:\n",
    "        name_folder = current_directory.joinpath(f'{prefix}{name}')\n",
    "        name_folder.mkdir(exist_ok=True)\n",
    "        print('The following folder has been created:', name_folder)\n",
    "    return None\n",
    "\n",
    "def create_folders_periodically(duration):\n",
    "    num_iterations = 5\n",
    "    i = 1\n",
    "    current_directory = pathlib.Path.cwd()\n",
    "    while i <= num_iterations:\n",
    "        folder_name = f\"folder_{i}\"\n",
    "        folder_path = current_directory.joinpath(f'{folder_name}')\n",
    "\n",
    "        folder_path.mkdir(exist_ok=True)\n",
    "\n",
    "        print('The following folder has been made:', folder_path)\n",
    "\n",
    "        i += 1\n",
    "        time.sleep(duration)\n",
    "    return None"
   ]
  },
  {
   "cell_type": "code",
   "execution_count": null,
   "metadata": {},
   "outputs": [],
   "source": []
  }
 ],
 "metadata": {
  "kernelspec": {
   "display_name": "Python 3",
   "language": "python",
   "name": "python3"
  },
  "language_info": {
   "codemirror_mode": {
    "name": "ipython",
    "version": 3
   },
   "file_extension": ".py",
   "mimetype": "text/x-python",
   "name": "python",
   "nbconvert_exporter": "python",
   "pygments_lexer": "ipython3",
   "version": "3.12.1"
  }
 },
 "nbformat": 4,
 "nbformat_minor": 2
}
